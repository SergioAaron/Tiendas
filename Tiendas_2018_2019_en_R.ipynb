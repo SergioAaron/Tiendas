{
  "metadata": {
    "kernelspec": {
      "name": "ir",
      "display_name": "R",
      "language": "R"
    },
    "language_info": {
      "name": "R",
      "codemirror_mode": "r",
      "pygments_lexer": "r",
      "mimetype": "text/x-r-source",
      "file_extension": ".r",
      "version": "4.0.5"
    },
    "kaggle": {
      "accelerator": "none",
      "dataSources": [
        {
          "sourceId": 7799904,
          "sourceType": "datasetVersion",
          "datasetId": 4566990
        }
      ],
      "dockerImageVersionId": 30618,
      "isInternetEnabled": false,
      "language": "r",
      "sourceType": "notebook",
      "isGpuEnabled": false
    },
    "colab": {
      "name": "Tiendas 2018-2019 en R",
      "provenance": [],
      "include_colab_link": true
    }
  },
  "nbformat_minor": 0,
  "nbformat": 4,
  "cells": [
    {
      "cell_type": "markdown",
      "metadata": {
        "id": "view-in-github",
        "colab_type": "text"
      },
      "source": [
        "<a href=\"https://colab.research.google.com/github/SergioAaron/Tiendas/blob/main/Tiendas_2018_2019_en_R.ipynb\" target=\"_parent\"><img src=\"https://colab.research.google.com/assets/colab-badge.svg\" alt=\"Open In Colab\"/></a>"
      ]
    },
    {
      "source": [
        "\n",
        "# IMPORTANT: RUN THIS CELL IN ORDER TO IMPORT YOUR KAGGLE DATA SOURCES\n",
        "# TO THE CORRECT LOCATION (/kaggle/input) IN YOUR NOTEBOOK,\n",
        "# THEN FEEL FREE TO DELETE THIS CELL.\n",
        "# NOTE: THIS NOTEBOOK ENVIRONMENT DIFFERS FROM KAGGLE'S R\n",
        "# ENVIRONMENT SO THERE MAY BE MISSING LIBRARIES USED BY YOUR\n",
        "# NOTEBOOK.\n",
        "\n",
        "DATA_SOURCE_MAPPING = 'tiendas-departamentales-2018-2019:https%3A%2F%2Fstorage.googleapis.com%2Fkaggle-data-sets%2F4566990%2F7799904%2Fbundle%2Farchive.zip%3FX-Goog-Algorithm%3DGOOG4-RSA-SHA256%26X-Goog-Credential%3Dgcp-kaggle-com%2540kaggle-161607.iam.gserviceaccount.com%252F20240313%252Fauto%252Fstorage%252Fgoog4_request%26X-Goog-Date%3D20240313T130155Z%26X-Goog-Expires%3D259200%26X-Goog-SignedHeaders%3Dhost%26X-Goog-Signature%3D49e2edd8ad1d73141f17a1f2dbb8c77f5d288c35dbe9ec20627fd456f1496520b70c0e1ba81465c08e1ebc32ae6483fb4f10b7030218011bf9a83750cfeb6ead75e6fd91f3dbe1033362c8674a03cf31efd700be35de21561efd3544754b06f718248319cc0428c753e0e2462f42b3bd898e65548b6b1b75f0498e6479cfeed804602e11644866486d4ea601fdcf44abecbf7da4d4a525a62342cd8e7b58bda8df4b2251118cef426ce83eb5dde655b3dfbcb7c5dbe22c287c6e70f129f2ca4e3c7a65ad9c9c23f056c56a1dc9b5969674089f070182753a957c4553c83ee865a2dc6fdf23d448970248f9ecd494271d77484e9d836d20b7f6db9f800f4e025d'\n",
        "\n",
        "KAGGLE_INPUT_PATH = '/kaggle/input'\n",
        "KAGGLE_WORKING_PATH = '/kaggle/working'\n",
        "\n",
        "system(paste0('sudo umount ', '/kaggle/input'))\n",
        "system(paste0('sudo rmdir ', '/kaggle/input'))\n",
        "system(paste0('sudo mkdir -p -- ', KAGGLE_INPUT_PATH), intern=TRUE)\n",
        "system(paste0('sudo chmod 777 ', KAGGLE_INPUT_PATH), intern=TRUE)\n",
        "system(\n",
        "  paste0('sudo ln -sfn ', KAGGLE_INPUT_PATH,' ',file.path('..', 'input')),\n",
        "  intern=TRUE)\n",
        "\n",
        "system(paste0('sudo mkdir -p -- ', KAGGLE_WORKING_PATH), intern=TRUE)\n",
        "system(paste0('sudo chmod 777 ', KAGGLE_WORKING_PATH), intern=TRUE)\n",
        "system(\n",
        "  paste0('sudo ln -sfn ', KAGGLE_WORKING_PATH, ' ', file.path('..', 'working')),\n",
        "  intern=TRUE)\n",
        "\n",
        "data_source_mappings = strsplit(DATA_SOURCE_MAPPING, ',')[[1]]\n",
        "for (data_source_mapping in data_source_mappings) {\n",
        "    path_and_url = strsplit(data_source_mapping, ':')\n",
        "    directory = path_and_url[[1]][1]\n",
        "    download_url = URLdecode(path_and_url[[1]][2])\n",
        "    filename = sub(\"\\\\?.+\", \"\", download_url)\n",
        "    destination_path = file.path(KAGGLE_INPUT_PATH, directory)\n",
        "    print(paste0('Downloading and uncompressing: ', directory))\n",
        "    if (endsWith(filename, '.zip')){\n",
        "      temp = tempfile(fileext = '.zip')\n",
        "      download.file(download_url, temp)\n",
        "      unzip(temp, overwrite = TRUE, exdir = destination_path)\n",
        "      unlink(temp)\n",
        "    }\n",
        "    else{\n",
        "      temp = tempfile(fileext = '.tar')\n",
        "      download.file(download_url, temp)\n",
        "      untar(temp, exdir = destination_path)\n",
        "      unlink(temp)\n",
        "    }\n",
        "    print(paste0('Downloaded and uncompressed: ', directory))\n",
        "}\n",
        "\n",
        "print(paste0('Data source import complete'))\n"
      ],
      "metadata": {
        "id": "qd3ptN_c5762"
      },
      "cell_type": "code",
      "outputs": [],
      "execution_count": null
    },
    {
      "cell_type": "code",
      "source": [
        "# Importar la librería\n",
        "library(readxl)\n",
        "library(dplyr)\n",
        "library(ggplot2)\n",
        "\n",
        "# Cargar el archivo Excel\n",
        "tiendas <- read_excel(\"/kaggle/input/tiendas-departamentales-2018-2019/MKT Science TR JR - Tiendas Departamentales 2018-2019 (1).xls\")\n",
        "\n",
        "# Explorar las primeras filas del DataFrame\n",
        "head(tiendas)\n",
        "\n",
        "# Ver las dimensiones del DataFrame original\n",
        "dim(tiendas)\n",
        "\n",
        "# Eliminar filas duplicadas\n",
        "tiendas_sin_duplicados <- unique(tiendas)\n",
        "\n",
        "# Ver las dimensiones del DataFrame sin duplicados\n",
        "dim(tiendas_sin_duplicados)\n",
        "\n",
        "# Realizar análisis exploratorio de datos (EDA)\n",
        "summary(tiendas_sin_duplicados) # Resumen estadístico\n",
        "str(tiendas_sin_duplicados)     # Estructura del DataFrame\n"
      ],
      "metadata": {
        "_uuid": "8f2839f25d086af736a60e9eeb907d3b93b6e0e5",
        "_cell_guid": "b1076dfc-b9ad-4769-8c92-a6c4dae69d19",
        "execution": {
          "iopub.status.busy": "2024-03-13T12:56:01.751483Z",
          "iopub.execute_input": "2024-03-13T12:56:01.754308Z",
          "iopub.status.idle": "2024-03-13T12:56:05.48021Z"
        },
        "trusted": true,
        "id": "JzVdRX6B5764"
      },
      "execution_count": null,
      "outputs": []
    },
    {
      "cell_type": "markdown",
      "source": [
        "#  Inversión Total y Crecimiento Porcentual (2018-2019)"
      ],
      "metadata": {
        "id": "IPpaLWEX5765"
      }
    },
    {
      "cell_type": "code",
      "source": [
        "# Filtrar los datos para incluir solo los años 2018 y 2019\n",
        "tiendas_2018 <- tiendas_sin_duplicados[tiendas_sin_duplicados$Año == 2018, ]\n",
        "tiendas_2019 <- tiendas_sin_duplicados[tiendas_sin_duplicados$Año == 2019, ]\n",
        "\n",
        "# Calcular la inversión total de la categoría para cada año\n",
        "inversion_total_2018 <- sum(tiendas_2018$Inversión_Bruta)\n",
        "inversion_total_2019 <- sum(tiendas_2019$Inversión_Bruta)\n",
        "\n",
        "# Calcular la diferencia entre la inversión total de 2019 y 2018\n",
        "diferencia_inversion <- inversion_total_2019 - inversion_total_2018\n",
        "\n",
        "# Calcular la diferencia porcentual entre 2019 y 2018\n",
        "diferencia_porcentual <- ((inversion_total_2019 - inversion_total_2018) / inversion_total_2018) * 100\n",
        "\n",
        "# Mostrar los resultados\n",
        "print(paste(\"La inversión total en la categoría en 2018 fue: $\", inversion_total_2018))\n",
        "print(paste(\"La inversión total en la categoría en 2019 fue: $\", inversion_total_2019))\n",
        "print(paste(\"La diferencia de inversión entre 2019 y 2018 fue: $\", diferencia_inversion))\n",
        "print(paste(\"La diferencia porcentual entre 2019 y 2018 fue:\", round(diferencia_porcentual, 2), \"%\"))\n"
      ],
      "metadata": {
        "execution": {
          "iopub.status.busy": "2024-03-13T12:56:05.483078Z",
          "iopub.execute_input": "2024-03-13T12:56:05.484541Z",
          "iopub.status.idle": "2024-03-13T12:56:05.536453Z"
        },
        "trusted": true,
        "id": "V56C3GTk5766"
      },
      "execution_count": null,
      "outputs": []
    },
    {
      "cell_type": "markdown",
      "source": [
        "# Temporalidades Clave de la categoria"
      ],
      "metadata": {
        "id": "9B6U0NEq5766"
      }
    },
    {
      "cell_type": "markdown",
      "source": [
        "## Trimestre"
      ],
      "metadata": {
        "id": "wRUDAS4b5766"
      }
    },
    {
      "cell_type": "code",
      "source": [
        "# Calcular la inversión total trimestral para 2018\n",
        "inversion_total_trimestral_2018 <- tiendas_sin_duplicados %>%\n",
        "  filter(format(as.Date(Fecha), \"%Y\") == \"2018\") %>%\n",
        "  group_by(quarters(as.Date(Fecha))) %>%\n",
        "  summarise(inversion_total = sum(Inversión_Bruta))\n",
        "\n",
        "print(\"Inversión Total Trimestral para 2018:\")\n",
        "print(inversion_total_trimestral_2018)\n",
        "\n",
        "# Calcular la inversión total trimestral para 2019\n",
        "inversion_total_trimestral_2019 <- tiendas_sin_duplicados %>%\n",
        "  filter(format(as.Date(Fecha), \"%Y\") == \"2019\") %>%\n",
        "  group_by(quarters(as.Date(Fecha))) %>%\n",
        "  summarise(inversion_total = sum(Inversión_Bruta))\n",
        "\n",
        "print(\"Inversión Total Trimestral para 2019:\")\n",
        "print(inversion_total_trimestral_2019)\n"
      ],
      "metadata": {
        "execution": {
          "iopub.status.busy": "2024-03-13T12:56:05.539125Z",
          "iopub.execute_input": "2024-03-13T12:56:05.540553Z",
          "iopub.status.idle": "2024-03-13T12:56:05.988003Z"
        },
        "trusted": true,
        "id": "xpOTZJ9m5767"
      },
      "execution_count": null,
      "outputs": []
    },
    {
      "cell_type": "markdown",
      "source": [
        "## Mensual"
      ],
      "metadata": {
        "id": "1B6AThif5767"
      }
    },
    {
      "cell_type": "code",
      "source": [
        "# Calcular la inversión total mensual para 2018\n",
        "inversion_total_mensual_2018 <- tiendas_sin_duplicados %>%\n",
        "  filter(format(as.Date(Fecha), \"%Y\") == \"2018\") %>%\n",
        "  group_by(month(as.Date(Fecha))) %>%\n",
        "  summarise(inversion_total = sum(Inversión_Bruta))\n",
        "\n",
        "print(\"Inversión Total Mensual para 2018:\")\n",
        "print(inversion_total_mensual_2018)\n",
        "\n",
        "# Calcular la inversión total mensual para 2019\n",
        "inversion_total_mensual_2019 <- tiendas_sin_duplicados %>%\n",
        "  filter(format(as.Date(Fecha), \"%Y\") == \"2019\") %>%\n",
        "  group_by(month(as.Date(Fecha))) %>%\n",
        "  summarise(inversion_total = sum(Inversión_Bruta))\n",
        "\n",
        "print(\"Inversión Total Mensual para 2019:\")\n",
        "print(inversion_total_mensual_2019)\n"
      ],
      "metadata": {
        "execution": {
          "iopub.status.busy": "2024-03-13T12:56:05.991171Z",
          "iopub.execute_input": "2024-03-13T12:56:05.992662Z",
          "iopub.status.idle": "2024-03-13T12:56:06.139313Z"
        },
        "trusted": true,
        "id": "uzO8I0ll5767"
      },
      "execution_count": null,
      "outputs": []
    },
    {
      "cell_type": "markdown",
      "source": [
        "## Semanal"
      ],
      "metadata": {
        "id": "cTi2eGqw5767"
      }
    },
    {
      "cell_type": "code",
      "source": [
        "# Filtrar datos por año 2018 y calcular la inversión semanal\n",
        "inversion_semanal_2018 <- aggregate(tiendas_sin_duplicados$Inversión_Bruta[year(tiendas_sin_duplicados$Fecha) == 2018],\n",
        "                                    list(weekdays(tiendas_sin_duplicados$Fecha[year(tiendas_sin_duplicados$Fecha) == 2018])), sum)\n",
        "\n",
        "# Filtrar datos por año 2019 y calcular la inversión semanal\n",
        "inversion_semanal_2019 <- aggregate(tiendas_sin_duplicados$Inversión_Bruta[year(tiendas_sin_duplicados$Fecha) == 2019],\n",
        "                                    list(weekdays(tiendas_sin_duplicados$Fecha[year(tiendas_sin_duplicados$Fecha) == 2019])), sum)\n",
        "\n",
        "# Mapear números de día de la semana a nombres\n",
        "nombres_dias_semana <- c('Lunes', 'Martes', 'Miércoles', 'Jueves', 'Viernes', 'Sábado', 'Domingo')\n",
        "\n",
        "# Mostrar la inversión semanal para el año 2018\n",
        "cat(\"Inversión Publicitaria Semanal - 2018:\\n\")\n",
        "for (i in 1:nrow(inversion_semanal_2018)) {\n",
        "  cat(nombres_dias_semana[i], ':', inversion_semanal_2018[i, 2], '\\n')\n",
        "}\n",
        "\n",
        "# Mostrar la inversión semanal para el año 2019\n",
        "cat(\"\\nInversión Publicitaria Semanal - 2019:\\n\")\n",
        "for (i in 1:nrow(inversion_semanal_2019)) {\n",
        "  cat(nombres_dias_semana[i], ':', inversion_semanal_2019[i, 2], '\\n')\n",
        "}\n"
      ],
      "metadata": {
        "execution": {
          "iopub.status.busy": "2024-03-13T12:56:06.142012Z",
          "iopub.execute_input": "2024-03-13T12:56:06.14339Z",
          "iopub.status.idle": "2024-03-13T12:56:06.273634Z"
        },
        "trusted": true,
        "id": "WuOexu6Q5767"
      },
      "execution_count": null,
      "outputs": []
    },
    {
      "cell_type": "markdown",
      "source": [
        "# Ranking de Marcas en 2019 y Estrategia de Medios"
      ],
      "metadata": {
        "id": "QoNVCw4u5767"
      }
    },
    {
      "cell_type": "code",
      "source": [
        "# Filtrar los datos para incluir solo el año 2019\n",
        "tiendas_2019 <- tiendas_sin_duplicados[tiendas_sin_duplicados$Año == 2019, ]\n",
        "\n",
        "# Agrupar por marca y sumar la inversión bruta para cada marca en 2019\n",
        "ranking_marcas_2019 <- tiendas_2019 %>%\n",
        "  group_by(Marca) %>%\n",
        "  summarise(inversion_total = sum(Inversión_Bruta)) %>%\n",
        "  arrange(desc(inversion_total))  # Ordenar por inversión total en orden descendente\n",
        "\n",
        "# Mostrar el ranking de marcas en 2019\n",
        "print(\"Ranking de Marcas en 2019:\")\n",
        "print(ranking_marcas_2019)\n"
      ],
      "metadata": {
        "execution": {
          "iopub.status.busy": "2024-03-13T12:56:06.276373Z",
          "iopub.execute_input": "2024-03-13T12:56:06.277837Z",
          "iopub.status.idle": "2024-03-13T12:56:06.330084Z"
        },
        "trusted": true,
        "id": "6ss0mHKO5767"
      },
      "execution_count": null,
      "outputs": []
    },
    {
      "cell_type": "markdown",
      "source": [
        "## Los medios que usaron las tres marcas más importantes durante el año 2019"
      ],
      "metadata": {
        "id": "KgQb7mn-5768"
      }
    },
    {
      "cell_type": "code",
      "source": [
        "# Obtener las tres marcas más importantes del ranking de 2019\n",
        "top_marcas_2019 <- head(ranking_marcas_2019, 3)\n",
        "\n",
        "# Filtrar los datos para incluir solo las inversiones realizadas por las tres marcas más importantes\n",
        "datos_top_marcas_2019 <- tiendas_2019 %>%\n",
        "  filter(Marca %in% top_marcas_2019$Marca)\n",
        "\n",
        "# Agrupar por medio y sumar la inversión bruta para cada uno de ellos\n",
        "inversion_por_medio <- datos_top_marcas_2019 %>%\n",
        "  group_by(Medio) %>%\n",
        "  summarise(inversion_total = sum(Inversión_Bruta))\n",
        "\n",
        "# Mostrar la inversión por medio para las tres marcas más importantes en 2019\n",
        "print(\"Inversión por Medio para las Tres Marcas Más Importantes en 2019:\")\n",
        "print(inversion_por_medio)\n"
      ],
      "metadata": {
        "execution": {
          "iopub.status.busy": "2024-03-13T12:56:06.332826Z",
          "iopub.execute_input": "2024-03-13T12:56:06.334261Z",
          "iopub.status.idle": "2024-03-13T12:56:06.385989Z"
        },
        "trusted": true,
        "id": "D3ANdNLr5768"
      },
      "execution_count": null,
      "outputs": []
    },
    {
      "cell_type": "code",
      "source": [
        "# Obtener las tres marcas más importantes\n",
        "tres_marcas_mas_importantes <- head(ranking_marcas_2019, 3)\n",
        "\n",
        "# Mostrar las tres marcas más importantes\n",
        "cat(\"\\nTres Marcas Más Importantes en 2019:\\n\")\n",
        "print(tres_marcas_mas_importantes)\n",
        "\n",
        "# Filtrar los datos para incluir solo las tres marcas más importantes\n",
        "datos_tres_marcas <- tiendas_2019 %>%\n",
        "  filter(Marca %in% tres_marcas_mas_importantes$Marca)\n",
        "\n",
        "# Calcular la inversión por medio para las tres marcas más importantes en 2019\n",
        "inversion_por_medio <- datos_tres_marcas %>%\n",
        "  group_by(Marca, Medio) %>%\n",
        "  summarise(inversion_total = sum(Inversión_Bruta), .groups = \"drop\")\n",
        "\n",
        "# Mostrar la inversión por medio para las tres marcas más importantes en 2019\n",
        "cat(\"\\nInversión por Medio para las Tres Marcas Más Importantes en 2019:\\n\")\n",
        "print(inversion_por_medio)\n"
      ],
      "metadata": {
        "execution": {
          "iopub.status.busy": "2024-03-13T12:57:57.213403Z",
          "iopub.execute_input": "2024-03-13T12:57:57.215239Z",
          "iopub.status.idle": "2024-03-13T12:57:57.29948Z"
        },
        "trusted": true,
        "id": "xgUqciZ15768"
      },
      "execution_count": null,
      "outputs": []
    },
    {
      "cell_type": "markdown",
      "source": [
        "#  Campañas más importantes del 2018"
      ],
      "metadata": {
        "id": "fHh0N5g05768"
      }
    },
    {
      "cell_type": "code",
      "source": [
        "# Filtrar los datos para incluir solo el año 2018\n",
        "tiendas_2018 <- tiendas_sin_duplicados[tiendas_sin_duplicados$Año == 2018, ]\n",
        "\n",
        "# Agrupar los datos por el campo 'Producto' y calcular la inversión total para cada campaña\n",
        "inversion_por_producto_2018 <- tiendas_2018 %>%\n",
        "  group_by(Producto) %>%\n",
        "  summarise(inversion_total = sum(Inversión_Bruta))\n",
        "\n",
        "# Ordenar las campañas por inversión total en orden descendente\n",
        "inversion_por_producto_2018 <- inversion_por_producto_2018 %>%\n",
        "  arrange(desc(inversion_total))\n",
        "\n",
        "# Mostrar las campañas más importantes\n",
        "print(\"Campañas más importantes en 2018:\")\n",
        "print(head(inversion_por_producto_2018, 10))  # Muestra las primeras 10 campañas, puedes ajustar este número según sea necesario\n"
      ],
      "metadata": {
        "execution": {
          "iopub.status.busy": "2024-03-13T12:58:33.627588Z",
          "iopub.execute_input": "2024-03-13T12:58:33.62977Z",
          "iopub.status.idle": "2024-03-13T12:58:33.686031Z"
        },
        "trusted": true,
        "id": "LQ1ZjqdV5768"
      },
      "execution_count": null,
      "outputs": []
    },
    {
      "cell_type": "code",
      "source": [
        "# Obtener las 10 campañas más importantes del año 2018\n",
        "campañas_importantes_2018 <- head(inversion_por_producto_2018, 10)\n",
        "\n",
        "# Filtrar los datos para incluir solo las campañas más importantes\n",
        "datos_campañas_importantes_2018 <- tiendas_2018 %>%\n",
        "  filter(Producto %in% campañas_importantes_2018$Producto)\n",
        "\n",
        "# Agrupar los datos por campaña y medio, y calcular la inversión total para cada combinación\n",
        "inversion_por_campaña_medio <- datos_campañas_importantes_2018 %>%\n",
        "  group_by(Producto, Medio, .groups = \"drop_last\") %>%\n",
        "  summarise(inversion_total = sum(Inversión_Bruta))\n",
        "\n",
        "# Calcular el porcentaje de inversión de cada medio en relación con la inversión total de la campaña\n",
        "inversion_por_campaña_medio <- inversion_por_campaña_medio %>%\n",
        "  group_by(Producto) %>%\n",
        "  mutate(porcentaje = (inversion_total / sum(inversion_total)) * 100)\n",
        "\n",
        "# Ordenar los resultados por inversión total en orden descendente\n",
        "inversion_por_campaña_medio <- inversion_por_campaña_medio %>%\n",
        "  arrange(desc(inversion_total))\n",
        "\n",
        "# Mostrar los resultados\n",
        "print(\"Inversión por Medio para las Campañas más importantes en 2018 (en orden descendente):\")\n",
        "print(inversion_por_campaña_medio)\n"
      ],
      "metadata": {
        "execution": {
          "iopub.status.busy": "2024-03-13T13:00:18.433458Z",
          "iopub.execute_input": "2024-03-13T13:00:18.435196Z",
          "iopub.status.idle": "2024-03-13T13:00:18.740048Z"
        },
        "trusted": true,
        "id": "Bd4_x3km5768"
      },
      "execution_count": null,
      "outputs": []
    },
    {
      "cell_type": "markdown",
      "source": [
        "# Comportamiento de la Inversión en TV Abierta"
      ],
      "metadata": {
        "id": "GX62_0Yw5768"
      }
    },
    {
      "cell_type": "code",
      "source": [
        "# Filtrar los datos para incluir solo TV Abierta\n",
        "tv_abierta <- tiendas_sin_duplicados[tiendas_sin_duplicados$Medio == \"TV ABIERTA\", ]\n",
        "\n",
        "# Agrupar los datos por año y calcular la inversión total para cada año\n",
        "inversion_por_año <- tv_abierta %>%\n",
        "  group_by(Año) %>%\n",
        "  summarise(inversion_total = sum(Inversión_Bruta))\n",
        "\n",
        "# Mostrar la inversión total por año\n",
        "print(\"Inversión total en TV Abierta por año:\")\n",
        "print(inversion_por_año)\n"
      ],
      "metadata": {
        "execution": {
          "iopub.status.busy": "2024-03-13T12:56:06.640061Z",
          "iopub.execute_input": "2024-03-13T12:56:06.641525Z",
          "iopub.status.idle": "2024-03-13T12:56:06.687074Z"
        },
        "trusted": true,
        "id": "NXAWRuf55768"
      },
      "execution_count": null,
      "outputs": []
    },
    {
      "cell_type": "code",
      "source": [
        "# Identificar los tres principales anunciantes en 2018\n",
        "top_anunciantes_2018 <- tiendas_2018 %>%\n",
        "  group_by(Anunciante) %>%\n",
        "  summarise(inversion_total = sum(Inversión_Bruta)) %>%\n",
        "  arrange(desc(inversion_total)) %>%\n",
        "  head(3)\n",
        "\n",
        "# Filtrar los datos para incluir solo las entradas relacionadas con los tres principales anunciantes en 2018\n",
        "datos_top_anunciantes_2018 <- tiendas_2018[tiendas_2018$Anunciante %in% top_anunciantes_2018$Anunciante, ]\n",
        "\n",
        "# Agrupar los datos por canal y calcular la inversión total para cada combinación\n",
        "inversion_top_anunciantes_2018 <- datos_top_anunciantes_2018 %>%\n",
        "  group_by(Vehículo) %>%\n",
        "  summarise(inversion_total = sum(Inversión_Bruta))\n",
        "\n",
        "# Ordenar los resultados por inversión total en orden descendente\n",
        "inversion_top_anunciantes_2018 <- inversion_top_anunciantes_2018 %>%\n",
        "  arrange(desc(inversion_total))\n",
        "\n",
        "# Mostrar los canales más importantes para los tres principales anunciantes en 2018\n",
        "print(\"Canales más importantes para los tres principales anunciantes en 2018:\")\n",
        "print(inversion_top_anunciantes_2018)\n",
        "\n",
        "# Identificar los tres principales anunciantes en 2019\n",
        "top_anunciantes_2019 <- tiendas_2019 %>%\n",
        "  group_by(Anunciante) %>%\n",
        "  summarise(inversion_total = sum(Inversión_Bruta)) %>%\n",
        "  arrange(desc(inversion_total)) %>%\n",
        "  head(3)\n",
        "\n",
        "# Filtrar los datos para incluir solo las entradas relacionadas con los tres principales anunciantes en 2019\n",
        "datos_top_anunciantes_2019 <- tiendas_2019[tiendas_2019$Anunciante %in% top_anunciantes_2019$Anunciante, ]\n",
        "\n",
        "# Agrupar los datos por canal y calcular la inversión total para cada combinación\n",
        "inversion_top_anunciantes_2019 <- datos_top_anunciantes_2019 %>%\n",
        "  group_by(Vehículo) %>%\n",
        "  summarise(inversion_total = sum(Inversión_Bruta))\n",
        "\n",
        "# Ordenar los resultados por inversión total en orden descendente\n",
        "inversion_top_anunciantes_2019 <- inversion_top_anunciantes_2019 %>%\n",
        "  arrange(desc(inversion_total))\n",
        "\n",
        "# Mostrar los canales más importantes para los tres principales anunciantes en 2019\n",
        "print(\"Canales más importantes para los tres principales anunciantes en 2019:\")\n",
        "print(inversion_top_anunciantes_2019)\n"
      ],
      "metadata": {
        "execution": {
          "iopub.status.busy": "2024-03-13T12:56:06.690154Z",
          "iopub.execute_input": "2024-03-13T12:56:06.691657Z",
          "iopub.status.idle": "2024-03-13T12:56:06.817445Z"
        },
        "trusted": true,
        "id": "J348TV4H5769"
      },
      "execution_count": null,
      "outputs": []
    }
  ]
}